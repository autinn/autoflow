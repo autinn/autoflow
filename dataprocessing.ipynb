{
  "nbformat": 4,
  "nbformat_minor": 0,
  "metadata": {
    "colab": {
      "provenance": []
    },
    "kernelspec": {
      "name": "python3",
      "display_name": "Python 3"
    },
    "language_info": {
      "name": "python"
    }
  },
  "cells": [
    {
      "cell_type": "markdown",
      "source": [
        "read json file"
      ],
      "metadata": {
        "id": "JaRRsKs-noX_"
      }
    },
    {
      "cell_type": "code",
      "source": [
        "import json\n",
        "def read_json_file(file_path):\n",
        "    \"\"\"\n",
        "    Reads the JSON file from the provided file path and returns a Python dictionary.\n",
        "    \"\"\"\n",
        "    with open(file_path, 'r') as file:\n",
        "        data = json.load(file)\n",
        "    return data"
      ],
      "metadata": {
        "id": "PlFOSGEnnyKz"
      },
      "execution_count": null,
      "outputs": []
    },
    {
      "cell_type": "code",
      "source": [
        "read_json_file('content-generation-sample.json')"
      ],
      "metadata": {
        "colab": {
          "base_uri": "https://localhost:8080/"
        },
        "id": "drTh3tObpGql",
        "outputId": "f47ef461-d80b-42d3-b980-4622ef769411"
      },
      "execution_count": null,
      "outputs": [
        {
          "output_type": "execute_result",
          "data": {
            "text/plain": [
              "{'id': 'p5bfwpcRy6LK33Io',\n",
              " 'meta': {'instanceId': 'a4bfc93e975ca233ac45ed7c9227d84cf5a2329310525917adaf3312e10d5462',\n",
              "  'templateCredsSetupCompleted': True},\n",
              " 'name': 'Automate Content Generator for WordPress with DeepSeek R1',\n",
              " 'tags': [],\n",
              " 'nodes': [{'id': 'c4a6995f-7769-4b77-80ca-1e6bccef77c1',\n",
              "   'name': 'When clicking ‘Test workflow’',\n",
              "   'type': 'n8n-nodes-base.manualTrigger',\n",
              "   'position': [-20, 200],\n",
              "   'parameters': {},\n",
              "   'typeVersion': 1},\n",
              "  {'id': 'c76b1458-5130-41e7-b2f2-1cfe22eab536',\n",
              "   'name': 'Get Ideas',\n",
              "   'type': 'n8n-nodes-base.googleSheets',\n",
              "   'position': [200, 200],\n",
              "   'parameters': {'options': {},\n",
              "    'sheetName': {'__rl': True, 'mode': 'id', 'value': '=Sheet1'},\n",
              "    'documentId': {'__rl': True, 'mode': 'id', 'value': 'YOURDOCUMENT'}},\n",
              "   'credentials': {'googleSheetsOAuth2Api': {'id': 'JYR6a64Qecd6t8Hb',\n",
              "     'name': 'Google Sheets account'}},\n",
              "   'typeVersion': 4.5},\n",
              "  {'id': '8d17a640-3e15-42e9-9481-e3291d395ccd',\n",
              "   'name': 'Set your prompt',\n",
              "   'type': 'n8n-nodes-base.set',\n",
              "   'position': [420, 200],\n",
              "   'parameters': {'options': {},\n",
              "    'assignments': {'assignments': [{'id': '3e8d2523-66aa-46fe-adcc-39dc78b9161e',\n",
              "       'name': 'prompt',\n",
              "       'type': 'string',\n",
              "       'value': '={{ $json.PROMPT }}'}]}},\n",
              "   'typeVersion': 3.4},\n",
              "  {'id': '4f0e9065-b331-49ed-acd9-77c7c43e89a5',\n",
              "   'name': 'Create post on Wordpress',\n",
              "   'type': 'n8n-nodes-base.wordpress',\n",
              "   'position': [0, 500],\n",
              "   'parameters': {'title': '={{ $json.message.content }}',\n",
              "    'additionalFields': {'status': 'draft',\n",
              "     'content': \"={{ $('Generate article with DeepSeek').item.json.message.content }}\"}},\n",
              "   'credentials': {'wordpressApi': {'id': 'OE4AgquSkMWydRqn',\n",
              "     'name': 'Wordpress (wp.test.7hype.com)'}},\n",
              "   'typeVersion': 1},\n",
              "  {'id': 'cb85d980-9d60-4c85-8574-b46e4cc14341',\n",
              "   'name': 'Upload image',\n",
              "   'type': 'n8n-nodes-base.httpRequest',\n",
              "   'position': [420, 500],\n",
              "   'parameters': {'url': 'https://YOURSITE.com/wp-json/wp/v2/media',\n",
              "    'method': 'POST',\n",
              "    'options': {},\n",
              "    'sendBody': True,\n",
              "    'contentType': 'binaryData',\n",
              "    'sendHeaders': True,\n",
              "    'authentication': 'predefinedCredentialType',\n",
              "    'headerParameters': {'parameters': [{'name': 'Content-Disposition',\n",
              "       'value': '=attachment; filename=\"copertina-{{ $(\\'Create post on Wordpress\\').item.json.id }}.jpg\"'}]},\n",
              "    'inputDataFieldName': 'data',\n",
              "    'nodeCredentialType': 'wordpressApi'},\n",
              "   'credentials': {'wordpressApi': {'id': 'OE4AgquSkMWydRqn',\n",
              "     'name': 'Wordpress (wp.test.7hype.com)'},\n",
              "    'wooCommerceApi': {'id': 'vYYrjB5kgHQ0XByZ',\n",
              "     'name': 'WooCommerce (wp.test.7hype.com)'}},\n",
              "   'typeVersion': 4.2},\n",
              "  {'id': 'bc71ed8a-fe35-487a-b4cd-6b8c1b256763',\n",
              "   'name': 'Set Image',\n",
              "   'type': 'n8n-nodes-base.httpRequest',\n",
              "   'position': [640, 500],\n",
              "   'parameters': {'url': \"=https://wp.test.7hype.com/wp-json/wp/v2/posts/{{ $('Create post on Wordpress').item.json.id }}\",\n",
              "    'method': 'POST',\n",
              "    'options': {},\n",
              "    'sendQuery': True,\n",
              "    'authentication': 'predefinedCredentialType',\n",
              "    'queryParameters': {'parameters': [{'name': 'featured_media',\n",
              "       'value': '={{ $json.id }}'}]},\n",
              "    'nodeCredentialType': 'wordpressApi'},\n",
              "   'credentials': {'wordpressApi': {'id': 'OE4AgquSkMWydRqn',\n",
              "     'name': 'Wordpress (wp.test.7hype.com)'}},\n",
              "   'typeVersion': 4.2},\n",
              "  {'id': 'fbed2813-cc64-42a2-994f-3696e9d8d8fe',\n",
              "   'name': 'Update Sheet',\n",
              "   'type': 'n8n-nodes-base.googleSheets',\n",
              "   'position': [880, 500],\n",
              "   'parameters': {'columns': {'value': {'DATA': \"={{ $now.format('dd/LL/yyyy') }}\",\n",
              "      'TITOLO': \"={{ $('Generate title with DeepSeek').item.json.message.content }}\",\n",
              "      'ID POST': \"={{ $('Create post on Wordpress').item.json.id }}\",\n",
              "      'row_number': \"={{ $('Get Ideas').item.json.row_number }}\"},\n",
              "     'schema': [{'id': 'DATA',\n",
              "       'type': 'string',\n",
              "       'display': True,\n",
              "       'required': False,\n",
              "       'displayName': 'DATA',\n",
              "       'defaultMatch': False,\n",
              "       'canBeUsedToMatch': True},\n",
              "      {'id': 'PROMPT',\n",
              "       'type': 'string',\n",
              "       'display': True,\n",
              "       'required': False,\n",
              "       'displayName': 'PROMPT',\n",
              "       'defaultMatch': False,\n",
              "       'canBeUsedToMatch': True},\n",
              "      {'id': 'TITOLO',\n",
              "       'type': 'string',\n",
              "       'display': True,\n",
              "       'required': False,\n",
              "       'displayName': 'TITOLO',\n",
              "       'defaultMatch': False,\n",
              "       'canBeUsedToMatch': True},\n",
              "      {'id': 'ID POST',\n",
              "       'type': 'string',\n",
              "       'display': True,\n",
              "       'required': False,\n",
              "       'displayName': 'ID POST',\n",
              "       'defaultMatch': False,\n",
              "       'canBeUsedToMatch': True},\n",
              "      {'id': 'row_number',\n",
              "       'type': 'string',\n",
              "       'display': True,\n",
              "       'removed': False,\n",
              "       'readOnly': True,\n",
              "       'required': False,\n",
              "       'displayName': 'row_number',\n",
              "       'defaultMatch': False,\n",
              "       'canBeUsedToMatch': True}],\n",
              "     'mappingMode': 'defineBelow',\n",
              "     'matchingColumns': ['row_number'],\n",
              "     'attemptToConvertTypes': False,\n",
              "     'convertFieldsToString': False},\n",
              "    'options': {},\n",
              "    'operation': 'update',\n",
              "    'sheetName': {'__rl': True,\n",
              "     'mode': 'list',\n",
              "     'value': 'gid=0',\n",
              "     'cachedResultUrl': 'https://docs.google.com/spreadsheets/d/16VFeCrE5BkMBoA_S5HD-9v7C0sxcXAUiDbq5JvkDqnI/edit#gid=0',\n",
              "     'cachedResultName': 'Foglio1'},\n",
              "    'documentId': {'__rl': True,\n",
              "     'mode': 'list',\n",
              "     'value': '16VFeCrE5BkMBoA_S5HD-9v7C0sxcXAUiDbq5JvkDqnI',\n",
              "     'cachedResultUrl': 'https://docs.google.com/spreadsheets/d/16VFeCrE5BkMBoA_S5HD-9v7C0sxcXAUiDbq5JvkDqnI/edit?usp=drivesdk',\n",
              "     'cachedResultName': 'Plan Blog wp.test.7hype.com'}},\n",
              "   'credentials': {'googleSheetsOAuth2Api': {'id': 'JYR6a64Qecd6t8Hb',\n",
              "     'name': 'Google Sheets account'}},\n",
              "   'typeVersion': 4.5},\n",
              "  {'id': '8db2b0cb-6d61-4e2d-bfac-e25a0385296d',\n",
              "   'name': 'Sticky Note',\n",
              "   'type': 'n8n-nodes-base.stickyNote',\n",
              "   'position': [-60, -360],\n",
              "   'parameters': {'color': 3,\n",
              "    'width': 800,\n",
              "    'height': 380,\n",
              "    'content': '## Target\\nThis workflow is designed to automatically generate seo-friendly content for wordpress through DeepSeek R1 by giving input ideas on how to structure the article. A cover image is also generated and uploaded with OpenAI DALL-E 3. This flow is designed to be executed automatically (ad \"On a schedule\" node) and thus have a complete editorial plan.\\n\\nThis process is useful for blog managers who want to automate content creation and publishing.\\n\\n## Preliminary step\\nCreate a google sheet with the following columns:\\n- Date\\n- Prompt\\n- Title\\n- Post ID\\n\\nFill in only the \"Prompt\" column with basic ideas that DeepSeek will work on to generate the content.'},\n",
              "   'typeVersion': 1},\n",
              "  {'id': 'ab620659-558d-46f0-ab85-e061af99b743',\n",
              "   'name': 'Sticky Note1',\n",
              "   'type': 'n8n-nodes-base.stickyNote',\n",
              "   'position': [140, 100],\n",
              "   'parameters': {'height': 260,\n",
              "    'content': 'Connect with your Google Sheet. This node select only rows for which no content has been generated yet in WordPress'},\n",
              "   'typeVersion': 1},\n",
              "  {'id': '73b0e640-8ccf-4e29-a0cd-6340db907bbd',\n",
              "   'name': 'Generate article with DeepSeek',\n",
              "   'type': '@n8n/n8n-nodes-langchain.openAi',\n",
              "   'position': [640, 200],\n",
              "   'parameters': {'modelId': {'__rl': True,\n",
              "     'mode': 'id',\n",
              "     'value': '=deepseek-reasoner'},\n",
              "    'options': {'maxTokens': 2048},\n",
              "    'messages': {'values': [{'content': '=You are an SEO expert, write an article based on this topic:\\n{{ $json.prompt }}\\n\\nInstructions:\\n- In the introduction, introduce the topic that will be explored in the rest of the text\\n- The introduction should be about 120 words\\n- The conclusions should be about 120 words\\n- Use the conclusions to summarize everything said in the article and offer a conclusion to the reader\\n- Write a maximum of 4-5 chapters and argue them.\\n- The chapters should follow a logical flow and not repeat the same concepts.\\n- The chapters should be related to each other and not isolated blocks of text. The text should flow and follow a linear logic.\\n- Do not start chapters with \"Chapter 1\", \"Chapter 2\", \"Chapter 3\" ... write only the chapter title\\n- For the text, use HTML for formatting, but limit yourself to bold, italics, paragraphs and lists.\\n- Don\\'t put the output in ```html but only text\\n- Don\\'t use markdown for formatting.\\n- Go deeper into the topic you\\'re talking about, don\\'t just throw superficial information there\\n- In output I want only the HTML format'}]}},\n",
              "   'credentials': {'openAiApi': {'id': '97Cz4cqyiy1RdcQL',\n",
              "     'name': 'DeepSeek'}},\n",
              "   'typeVersion': 1.8},\n",
              "  {'id': '6ef4e0d1-6123-4f47-94fb-c06c785ddd92',\n",
              "   'name': 'Generate title with DeepSeek',\n",
              "   'type': '@n8n/n8n-nodes-langchain.openAi',\n",
              "   'position': [880, 200],\n",
              "   'parameters': {'modelId': {'__rl': True,\n",
              "     'mode': 'id',\n",
              "     'value': '=deepseek-reasoner'},\n",
              "    'options': {'maxTokens': 2048},\n",
              "    'messages': {'values': [{'content': '=You are an SEO Copywriter and you need to think of a title of maximum 60 characters for the following article:\\n{{ $json.message.content }}\\n\\nInstructions:\\n- Use keywords contained in the article\\n- Do not use any HTML characters\\n- Output only the string containing the title.\\n- Do not use quotation marks. The only special characters allowed are \":\" and \",\"'}]}},\n",
              "   'credentials': {'openAiApi': {'id': '97Cz4cqyiy1RdcQL',\n",
              "     'name': 'DeepSeek'}},\n",
              "   'typeVersion': 1.8},\n",
              "  {'id': '2ecc8514-c04e-4f8b-9ab3-560f2cf910b0',\n",
              "   'name': 'Sticky Note2',\n",
              "   'type': 'n8n-nodes-base.stickyNote',\n",
              "   'position': [580, 100],\n",
              "   'parameters': {'width': 420,\n",
              "    'height': 260,\n",
              "    'content': 'Add your DeepSeek API credential. If you want you can change the model with \"deepseek-chat\"'},\n",
              "   'typeVersion': 1},\n",
              "  {'id': '196f7799-a6ab-429b-afd3-bcbcbd65da3b',\n",
              "   'name': 'Sticky Note3',\n",
              "   'type': 'n8n-nodes-base.stickyNote',\n",
              "   'position': [-20, 420],\n",
              "   'parameters': {'width': 160,\n",
              "    'height': 260,\n",
              "    'content': 'Add your WordPress API credential\\n'},\n",
              "   'typeVersion': 1},\n",
              "  {'id': '93c2d359-531a-4cc9-8a18-870c2d6ec62c',\n",
              "   'name': 'Generate Image with DALL-E',\n",
              "   'type': '@n8n/n8n-nodes-langchain.openAi',\n",
              "   'position': [200, 500],\n",
              "   'parameters': {'prompt': \"=Generate a real photographic image used as a cover for a blog post:\\n\\nImage prompt:\\n{{ $('Generate title with DeepSeek').item.json.message.content }}, photography, realistic, sigma 85mm f/1.4\",\n",
              "    'options': {'size': '1792x1024', 'style': 'natural', 'quality': 'hd'},\n",
              "    'resource': 'image'},\n",
              "   'credentials': {'openAiApi': {'id': 'CDX6QM4gLYanh0P4',\n",
              "     'name': 'OpenAi account'}},\n",
              "   'typeVersion': 1.8},\n",
              "  {'id': 'eec14cd7-fb2b-4f7d-ad94-bcffc1249353',\n",
              "   'name': 'Sticky Note4',\n",
              "   'type': 'n8n-nodes-base.stickyNote',\n",
              "   'position': [180, 420],\n",
              "   'parameters': {'width': 160,\n",
              "    'height': 260,\n",
              "    'content': 'Add your OpenAI API credential\\n'},\n",
              "   'typeVersion': 1},\n",
              "  {'id': '4f15679b-bc8f-45b8-b3c4-8b43d7f9bb6f',\n",
              "   'name': 'Sticky Note5',\n",
              "   'type': 'n8n-nodes-base.stickyNote',\n",
              "   'position': [380, 420],\n",
              "   'parameters': {'width': 180,\n",
              "    'height': 260,\n",
              "    'content': 'Upload the image on your WordPress via APIs\\n'},\n",
              "   'typeVersion': 1},\n",
              "  {'id': 'abe32434-671a-4ac3-a788-fcf5fd0e9435',\n",
              "   'name': 'Sticky Note6',\n",
              "   'type': 'n8n-nodes-base.stickyNote',\n",
              "   'position': [600, 420],\n",
              "   'parameters': {'width': 180,\n",
              "    'height': 260,\n",
              "    'content': 'Set the uploaded image with the newly created article\\n'},\n",
              "   'typeVersion': 1}],\n",
              " 'active': False,\n",
              " 'pinData': {},\n",
              " 'settings': {'executionOrder': 'v1'},\n",
              " 'versionId': '315cc8df-bca2-4180-806e-a01407dccc79',\n",
              " 'connections': {'Get Ideas': {'main': [[{'node': 'Set your prompt',\n",
              "      'type': 'main',\n",
              "      'index': 0}]]},\n",
              "  'Set Image': {'main': [[{'node': 'Update Sheet',\n",
              "      'type': 'main',\n",
              "      'index': 0}]]},\n",
              "  'Upload image': {'main': [[{'node': 'Set Image',\n",
              "      'type': 'main',\n",
              "      'index': 0}]]},\n",
              "  'Set your prompt': {'main': [[{'node': 'Generate article with DeepSeek',\n",
              "      'type': 'main',\n",
              "      'index': 0}]]},\n",
              "  'Create post on Wordpress': {'main': [[{'node': 'Generate Image with DALL-E',\n",
              "      'type': 'main',\n",
              "      'index': 0}]]},\n",
              "  'Generate Image with DALL-E': {'main': [[{'node': 'Upload image',\n",
              "      'type': 'main',\n",
              "      'index': 0}]]},\n",
              "  'Generate title with DeepSeek': {'main': [[{'node': 'Create post on Wordpress',\n",
              "      'type': 'main',\n",
              "      'index': 0}]]},\n",
              "  'Generate article with DeepSeek': {'main': [[{'node': 'Generate title with DeepSeek',\n",
              "      'type': 'main',\n",
              "      'index': 0}]]},\n",
              "  'When clicking ‘Test workflow’': {'main': [[{'node': 'Get Ideas',\n",
              "      'type': 'main',\n",
              "      'index': 0}]]}}}"
            ]
          },
          "metadata": {},
          "execution_count": 2
        }
      ]
    },
    {
      "cell_type": "code",
      "source": [
        "data = read_json_file('content-generation-sample.json')"
      ],
      "metadata": {
        "id": "s9C3r9PB28Wo"
      },
      "execution_count": null,
      "outputs": []
    },
    {
      "cell_type": "markdown",
      "source": [
        "parse and analyse json structure\n",
        "\n",
        "breakdown workflow into agents, tasks, dependencies, inputs, outputs"
      ],
      "metadata": {
        "id": "Dr-g0nTRnq3X"
      }
    },
    {
      "cell_type": "code",
      "source": [
        "def parse_workflow_data(workflow_data):\n",
        "\n",
        "  parsed_data = {}\n",
        "\n",
        "  workflow_id = workflow_data.get('id', '')\n",
        "  workflow_name = workflow_data.get('name', '')\n",
        "  meta_data = workflow_data.get('meta', {})\n",
        "\n",
        "  parsed_data['workflow_id'] = workflow_id\n",
        "  parsed_data['workflow_name'] = workflow_name\n",
        "  parsed_data['meta_data'] = meta_data\n",
        "\n",
        "  nodes = workflow_data.get('nodes', [])\n",
        "  agents = []\n",
        "  for node in nodes:\n",
        "    if node.get(\"type\") == \"n8n-nodes-base.stickyNote\":\n",
        "        continue\n",
        "    agent = {\n",
        "        'id': node.get('id', ''),\n",
        "        'name': node.get('name', ''),\n",
        "        'type': node.get('type',''),\n",
        "        'parameters': node.get('parameters',{}),\n",
        "        'credentials': node.get('credentials',{})\n",
        "    }\n",
        "    agents.append(agent)\n",
        "    parsed_data['agents'] = agents\n",
        "\n",
        "  dependencies = {}\n",
        "  connections = workflow_data.get('connections', {})\n",
        "  # connections is embedded in dictionary with node: connected node as key-value pair\n",
        "  for source_node, connection_data in connections.items():\n",
        "    # connection_data is the value of the source node, return a 2D list, list of connection list\n",
        "    main_connections = connection_data.get('main', [])\n",
        "    dependent_list = []\n",
        "    for connection_array in main_connections:\n",
        "      for connected_node in connection_array:\n",
        "        dependent_list.append(connected_node.get('node', ''))\n",
        "    dependencies[source_node] = dependent_list\n",
        "  parsed_data['dependencies'] = dependencies\n",
        "\n",
        "  sticky_notes = []\n",
        "  for node in nodes:\n",
        "    if node.get('type') == \"n8n-nodes-base.stickyNote\":\n",
        "      sticky_notes.append(node['parameters'].get('content',''))\n",
        "  parsed_data['sticky_notes'] = sticky_notes\n",
        "\n",
        "  return parsed_data"
      ],
      "metadata": {
        "id": "wv4m5GMSnyVz"
      },
      "execution_count": null,
      "outputs": []
    },
    {
      "cell_type": "code",
      "source": [
        "parse_workflow_data(data)"
      ],
      "metadata": {
        "colab": {
          "base_uri": "https://localhost:8080/"
        },
        "id": "-zbxOzRw25Y4",
        "outputId": "bb1ffb9b-d35b-4da1-9ad2-442a79eda487"
      },
      "execution_count": null,
      "outputs": [
        {
          "output_type": "execute_result",
          "data": {
            "text/plain": [
              "{'workflow_id': 'p5bfwpcRy6LK33Io',\n",
              " 'workflow_name': 'Automate Content Generator for WordPress with DeepSeek R1',\n",
              " 'meta_data': {'instanceId': 'a4bfc93e975ca233ac45ed7c9227d84cf5a2329310525917adaf3312e10d5462',\n",
              "  'templateCredsSetupCompleted': True},\n",
              " 'agents': [{'id': 'c4a6995f-7769-4b77-80ca-1e6bccef77c1',\n",
              "   'name': 'When clicking ‘Test workflow’',\n",
              "   'type': 'n8n-nodes-base.manualTrigger',\n",
              "   'parameters': {},\n",
              "   'credentials': {}},\n",
              "  {'id': 'c76b1458-5130-41e7-b2f2-1cfe22eab536',\n",
              "   'name': 'Get Ideas',\n",
              "   'type': 'n8n-nodes-base.googleSheets',\n",
              "   'parameters': {'options': {},\n",
              "    'sheetName': {'__rl': True, 'mode': 'id', 'value': '=Sheet1'},\n",
              "    'documentId': {'__rl': True, 'mode': 'id', 'value': 'YOURDOCUMENT'}},\n",
              "   'credentials': {'googleSheetsOAuth2Api': {'id': 'JYR6a64Qecd6t8Hb',\n",
              "     'name': 'Google Sheets account'}}},\n",
              "  {'id': '8d17a640-3e15-42e9-9481-e3291d395ccd',\n",
              "   'name': 'Set your prompt',\n",
              "   'type': 'n8n-nodes-base.set',\n",
              "   'parameters': {'options': {},\n",
              "    'assignments': {'assignments': [{'id': '3e8d2523-66aa-46fe-adcc-39dc78b9161e',\n",
              "       'name': 'prompt',\n",
              "       'type': 'string',\n",
              "       'value': '={{ $json.PROMPT }}'}]}},\n",
              "   'credentials': {}},\n",
              "  {'id': '4f0e9065-b331-49ed-acd9-77c7c43e89a5',\n",
              "   'name': 'Create post on Wordpress',\n",
              "   'type': 'n8n-nodes-base.wordpress',\n",
              "   'parameters': {'title': '={{ $json.message.content }}',\n",
              "    'additionalFields': {'status': 'draft',\n",
              "     'content': \"={{ $('Generate article with DeepSeek').item.json.message.content }}\"}},\n",
              "   'credentials': {'wordpressApi': {'id': 'OE4AgquSkMWydRqn',\n",
              "     'name': 'Wordpress (wp.test.7hype.com)'}}},\n",
              "  {'id': 'cb85d980-9d60-4c85-8574-b46e4cc14341',\n",
              "   'name': 'Upload image',\n",
              "   'type': 'n8n-nodes-base.httpRequest',\n",
              "   'parameters': {'url': 'https://YOURSITE.com/wp-json/wp/v2/media',\n",
              "    'method': 'POST',\n",
              "    'options': {},\n",
              "    'sendBody': True,\n",
              "    'contentType': 'binaryData',\n",
              "    'sendHeaders': True,\n",
              "    'authentication': 'predefinedCredentialType',\n",
              "    'headerParameters': {'parameters': [{'name': 'Content-Disposition',\n",
              "       'value': '=attachment; filename=\"copertina-{{ $(\\'Create post on Wordpress\\').item.json.id }}.jpg\"'}]},\n",
              "    'inputDataFieldName': 'data',\n",
              "    'nodeCredentialType': 'wordpressApi'},\n",
              "   'credentials': {'wordpressApi': {'id': 'OE4AgquSkMWydRqn',\n",
              "     'name': 'Wordpress (wp.test.7hype.com)'},\n",
              "    'wooCommerceApi': {'id': 'vYYrjB5kgHQ0XByZ',\n",
              "     'name': 'WooCommerce (wp.test.7hype.com)'}}},\n",
              "  {'id': 'bc71ed8a-fe35-487a-b4cd-6b8c1b256763',\n",
              "   'name': 'Set Image',\n",
              "   'type': 'n8n-nodes-base.httpRequest',\n",
              "   'parameters': {'url': \"=https://wp.test.7hype.com/wp-json/wp/v2/posts/{{ $('Create post on Wordpress').item.json.id }}\",\n",
              "    'method': 'POST',\n",
              "    'options': {},\n",
              "    'sendQuery': True,\n",
              "    'authentication': 'predefinedCredentialType',\n",
              "    'queryParameters': {'parameters': [{'name': 'featured_media',\n",
              "       'value': '={{ $json.id }}'}]},\n",
              "    'nodeCredentialType': 'wordpressApi'},\n",
              "   'credentials': {'wordpressApi': {'id': 'OE4AgquSkMWydRqn',\n",
              "     'name': 'Wordpress (wp.test.7hype.com)'}}},\n",
              "  {'id': 'fbed2813-cc64-42a2-994f-3696e9d8d8fe',\n",
              "   'name': 'Update Sheet',\n",
              "   'type': 'n8n-nodes-base.googleSheets',\n",
              "   'parameters': {'columns': {'value': {'DATA': \"={{ $now.format('dd/LL/yyyy') }}\",\n",
              "      'TITOLO': \"={{ $('Generate title with DeepSeek').item.json.message.content }}\",\n",
              "      'ID POST': \"={{ $('Create post on Wordpress').item.json.id }}\",\n",
              "      'row_number': \"={{ $('Get Ideas').item.json.row_number }}\"},\n",
              "     'schema': [{'id': 'DATA',\n",
              "       'type': 'string',\n",
              "       'display': True,\n",
              "       'required': False,\n",
              "       'displayName': 'DATA',\n",
              "       'defaultMatch': False,\n",
              "       'canBeUsedToMatch': True},\n",
              "      {'id': 'PROMPT',\n",
              "       'type': 'string',\n",
              "       'display': True,\n",
              "       'required': False,\n",
              "       'displayName': 'PROMPT',\n",
              "       'defaultMatch': False,\n",
              "       'canBeUsedToMatch': True},\n",
              "      {'id': 'TITOLO',\n",
              "       'type': 'string',\n",
              "       'display': True,\n",
              "       'required': False,\n",
              "       'displayName': 'TITOLO',\n",
              "       'defaultMatch': False,\n",
              "       'canBeUsedToMatch': True},\n",
              "      {'id': 'ID POST',\n",
              "       'type': 'string',\n",
              "       'display': True,\n",
              "       'required': False,\n",
              "       'displayName': 'ID POST',\n",
              "       'defaultMatch': False,\n",
              "       'canBeUsedToMatch': True},\n",
              "      {'id': 'row_number',\n",
              "       'type': 'string',\n",
              "       'display': True,\n",
              "       'removed': False,\n",
              "       'readOnly': True,\n",
              "       'required': False,\n",
              "       'displayName': 'row_number',\n",
              "       'defaultMatch': False,\n",
              "       'canBeUsedToMatch': True}],\n",
              "     'mappingMode': 'defineBelow',\n",
              "     'matchingColumns': ['row_number'],\n",
              "     'attemptToConvertTypes': False,\n",
              "     'convertFieldsToString': False},\n",
              "    'options': {},\n",
              "    'operation': 'update',\n",
              "    'sheetName': {'__rl': True,\n",
              "     'mode': 'list',\n",
              "     'value': 'gid=0',\n",
              "     'cachedResultUrl': 'https://docs.google.com/spreadsheets/d/16VFeCrE5BkMBoA_S5HD-9v7C0sxcXAUiDbq5JvkDqnI/edit#gid=0',\n",
              "     'cachedResultName': 'Foglio1'},\n",
              "    'documentId': {'__rl': True,\n",
              "     'mode': 'list',\n",
              "     'value': '16VFeCrE5BkMBoA_S5HD-9v7C0sxcXAUiDbq5JvkDqnI',\n",
              "     'cachedResultUrl': 'https://docs.google.com/spreadsheets/d/16VFeCrE5BkMBoA_S5HD-9v7C0sxcXAUiDbq5JvkDqnI/edit?usp=drivesdk',\n",
              "     'cachedResultName': 'Plan Blog wp.test.7hype.com'}},\n",
              "   'credentials': {'googleSheetsOAuth2Api': {'id': 'JYR6a64Qecd6t8Hb',\n",
              "     'name': 'Google Sheets account'}}},\n",
              "  {'id': '73b0e640-8ccf-4e29-a0cd-6340db907bbd',\n",
              "   'name': 'Generate article with DeepSeek',\n",
              "   'type': '@n8n/n8n-nodes-langchain.openAi',\n",
              "   'parameters': {'modelId': {'__rl': True,\n",
              "     'mode': 'id',\n",
              "     'value': '=deepseek-reasoner'},\n",
              "    'options': {'maxTokens': 2048},\n",
              "    'messages': {'values': [{'content': '=You are an SEO expert, write an article based on this topic:\\n{{ $json.prompt }}\\n\\nInstructions:\\n- In the introduction, introduce the topic that will be explored in the rest of the text\\n- The introduction should be about 120 words\\n- The conclusions should be about 120 words\\n- Use the conclusions to summarize everything said in the article and offer a conclusion to the reader\\n- Write a maximum of 4-5 chapters and argue them.\\n- The chapters should follow a logical flow and not repeat the same concepts.\\n- The chapters should be related to each other and not isolated blocks of text. The text should flow and follow a linear logic.\\n- Do not start chapters with \"Chapter 1\", \"Chapter 2\", \"Chapter 3\" ... write only the chapter title\\n- For the text, use HTML for formatting, but limit yourself to bold, italics, paragraphs and lists.\\n- Don\\'t put the output in ```html but only text\\n- Don\\'t use markdown for formatting.\\n- Go deeper into the topic you\\'re talking about, don\\'t just throw superficial information there\\n- In output I want only the HTML format'}]}},\n",
              "   'credentials': {'openAiApi': {'id': '97Cz4cqyiy1RdcQL',\n",
              "     'name': 'DeepSeek'}}},\n",
              "  {'id': '6ef4e0d1-6123-4f47-94fb-c06c785ddd92',\n",
              "   'name': 'Generate title with DeepSeek',\n",
              "   'type': '@n8n/n8n-nodes-langchain.openAi',\n",
              "   'parameters': {'modelId': {'__rl': True,\n",
              "     'mode': 'id',\n",
              "     'value': '=deepseek-reasoner'},\n",
              "    'options': {'maxTokens': 2048},\n",
              "    'messages': {'values': [{'content': '=You are an SEO Copywriter and you need to think of a title of maximum 60 characters for the following article:\\n{{ $json.message.content }}\\n\\nInstructions:\\n- Use keywords contained in the article\\n- Do not use any HTML characters\\n- Output only the string containing the title.\\n- Do not use quotation marks. The only special characters allowed are \":\" and \",\"'}]}},\n",
              "   'credentials': {'openAiApi': {'id': '97Cz4cqyiy1RdcQL',\n",
              "     'name': 'DeepSeek'}}},\n",
              "  {'id': '93c2d359-531a-4cc9-8a18-870c2d6ec62c',\n",
              "   'name': 'Generate Image with DALL-E',\n",
              "   'type': '@n8n/n8n-nodes-langchain.openAi',\n",
              "   'parameters': {'prompt': \"=Generate a real photographic image used as a cover for a blog post:\\n\\nImage prompt:\\n{{ $('Generate title with DeepSeek').item.json.message.content }}, photography, realistic, sigma 85mm f/1.4\",\n",
              "    'options': {'size': '1792x1024', 'style': 'natural', 'quality': 'hd'},\n",
              "    'resource': 'image'},\n",
              "   'credentials': {'openAiApi': {'id': 'CDX6QM4gLYanh0P4',\n",
              "     'name': 'OpenAi account'}}}],\n",
              " 'dependencies': {'Get Ideas': ['Set your prompt'],\n",
              "  'Set Image': ['Update Sheet'],\n",
              "  'Upload image': ['Set Image'],\n",
              "  'Set your prompt': ['Generate article with DeepSeek'],\n",
              "  'Create post on Wordpress': ['Generate Image with DALL-E'],\n",
              "  'Generate Image with DALL-E': ['Upload image'],\n",
              "  'Generate title with DeepSeek': ['Create post on Wordpress'],\n",
              "  'Generate article with DeepSeek': ['Generate title with DeepSeek'],\n",
              "  'When clicking ‘Test workflow’': ['Get Ideas']},\n",
              " 'sticky_notes': ['## Target\\nThis workflow is designed to automatically generate seo-friendly content for wordpress through DeepSeek R1 by giving input ideas on how to structure the article. A cover image is also generated and uploaded with OpenAI DALL-E 3. This flow is designed to be executed automatically (ad \"On a schedule\" node) and thus have a complete editorial plan.\\n\\nThis process is useful for blog managers who want to automate content creation and publishing.\\n\\n## Preliminary step\\nCreate a google sheet with the following columns:\\n- Date\\n- Prompt\\n- Title\\n- Post ID\\n\\nFill in only the \"Prompt\" column with basic ideas that DeepSeek will work on to generate the content.',\n",
              "  'Connect with your Google Sheet. This node select only rows for which no content has been generated yet in WordPress',\n",
              "  'Add your DeepSeek API credential. If you want you can change the model with \"deepseek-chat\"',\n",
              "  'Add your WordPress API credential\\n',\n",
              "  'Add your OpenAI API credential\\n',\n",
              "  'Upload the image on your WordPress via APIs\\n',\n",
              "  'Set the uploaded image with the newly created article\\n']}"
            ]
          },
          "metadata": {},
          "execution_count": 5
        }
      ]
    },
    {
      "cell_type": "markdown",
      "source": [
        "generate questions based on key features\n",
        "1. The workflow’s purpose (why it exists).\n",
        "2. The agents’ roles (who does what).\n",
        "3.  The dependencies between tasks or agents (the sequence or required order).\n",
        "4. The main inputs and outputs (the data or artifacts processed).\n",
        "5. Potential optimization points or improvement areas.\n"
      ],
      "metadata": {
        "id": "UvKCGl0SnssS"
      }
    },
    {
      "cell_type": "code",
      "source": [
        "OPENAI_API_KEY = 'sk-XXXX'"
      ],
      "metadata": {
        "id": "xb3OodfJ9Y8V"
      },
      "execution_count": null,
      "outputs": []
    },
    {
      "cell_type": "code",
      "source": [
        "import openai\n",
        "import os\n",
        "import re\n",
        "from openai import OpenAI\n",
        "\n",
        "os.environ['OPENAI_API_KEY'] = OPENAI_API_KEY\n",
        "client = OpenAI()\n",
        "\n",
        "def generate_questions_llm(parsed_data, llm_model):\n",
        "    \"\"\"\n",
        "    Uses an open-source LLM to generate creative questions (high temperature).\n",
        "    \"\"\"\n",
        "    prompt = f\"\"\"\n",
        "    You are an expert workflow analyst. The workflow includes:\n",
        "        ID: {parsed_data.get(\"workflow_id\", \"\")}\n",
        "        Name: {parsed_data.get(\"workflow_name\", \"\")}\n",
        "        Meta: {parsed_data.get(\"meta\", {})}\n",
        "        Agents: {parsed_data.get(\"agents\", [])}\n",
        "        Dependencies: {parsed_data.get(\"dependencies\", {})}\n",
        "        Notes: {parsed_data.get(\"sticky_notes\", \"\")}\n",
        "    Please generate 5 insightful questions that deeply explore this workflow setup,\n",
        "    potential challenges, or interesting aspects. Be creative and detailed.\n",
        "    \"\"\"\n",
        "\n",
        "    response = client.chat.completions.create(\n",
        "        model=llm_model,\n",
        "        messages=[\n",
        "            {\"role\": \"system\", \"content\": \"You are a helpful assistant.\"},\n",
        "            {\"role\": \"user\", \"content\": prompt}\n",
        "        ],\n",
        "        temperature = 1.2,\n",
        "        top_p = 0.95,\n",
        "        max_tokens = 2048\n",
        "    )\n",
        "\n",
        "    response_text = response.choices[0].message.content.strip()\n",
        "    lines = response_text.split(\"\\n\")\n",
        "\n",
        "    questions = []\n",
        "    for line in lines:\n",
        "        line = line.strip()\n",
        "        if not line:\n",
        "            continue\n",
        "        if re.match(r\"^\\d+\\.\\s\", line):\n",
        "            questions.append(line)\n",
        "\n",
        "\n",
        "    return questions"
      ],
      "metadata": {
        "id": "dcjhDyOpnysZ"
      },
      "execution_count": null,
      "outputs": []
    },
    {
      "cell_type": "code",
      "source": [
        "generate_questions_llm(parse_workflow_data(data), 'gpt-3.5-turbo')"
      ],
      "metadata": {
        "colab": {
          "base_uri": "https://localhost:8080/"
        },
        "id": "N5b-rb5M9fEm",
        "outputId": "37f3fa8a-436f-4f4b-ac5e-3393484d8346"
      },
      "execution_count": null,
      "outputs": [
        {
          "output_type": "execute_result",
          "data": {
            "text/plain": [
              "['1. How does the automated content generation process ensure that the content created is aligned with SEO best practices and meets the needs of the target audience, considering the instructions provided for structuring the article and generating the title?',\n",
              " '2. What safeguards are in place within the workflow to prevent duplication or plagiarism of content, especially when using AI-generated text from DeepSeek and DALL-E to create articles and cover images for WordPress posts?',\n",
              " '3. Can you elaborate on how the workflow handles potential discrepancies or errors that may arise during the content generation process, such as inaccuracies in the generated content, failed image uploads, or incorrect data being updated in the Google Sheet or WordPress post?',\n",
              " '4. How does the workflow manage the scalability of content creation and publishing, particularly when dealing with a large volume of prompts in the Google Sheet, multiple concurrent article generation requests, and frequent updates to existing posts with new content and images?',\n",
              " '5. In what ways can the workflow be further optimized or expanded to enhance efficiency, improve content quality, or integrate additional features or third-party tools that could enhance the overall content creation and publishing process for WordPress websites?']"
            ]
          },
          "metadata": {},
          "execution_count": 8
        }
      ]
    },
    {
      "cell_type": "code",
      "source": [
        "questions = generate_questions_llm(parse_workflow_data(data), 'gpt-3.5-turbo')"
      ],
      "metadata": {
        "id": "9Iar7qfs-n6o"
      },
      "execution_count": null,
      "outputs": []
    },
    {
      "cell_type": "code",
      "source": [
        "print(questions)"
      ],
      "metadata": {
        "colab": {
          "base_uri": "https://localhost:8080/"
        },
        "id": "1GILqg6s_zPV",
        "outputId": "1c86a51e-b619-42e1-cea9-95e1bfa965e0"
      },
      "execution_count": null,
      "outputs": [
        {
          "output_type": "stream",
          "name": "stdout",
          "text": [
            "[\"1. How does the workflow ensure that the generated content is SEO-friendly and aligns with the input prompt provided in the Google Sheet? Are there any mechanisms in place to measure the content's SEO effectiveness?\", '2. What measures are taken within the workflow to maintain a coherent narrative flow in the generated article produced by DeepSeek R1? How does the system ensure that the content is engaging and keeps readers interested throughout?', '3. Considering the automated nature of the workflow, what safeguards or quality control checks are implemented to prevent potential errors or inaccuracies in the generated content, especially when it comes to publishing directly on WordPress without human intervention?', '4. How does the workflow handle potential issues such as formatting discrepancies or content structure variations between the generated article from DeepSeek R1 and the final post created on WordPress? Are there any steps taken to streamline this process and ensure consistency?', '5. In the context of generating the cover image with OpenAI DALL-E 3, how does the workflow address potential challenges related to image quality, relevance to the article content, and ensuring visual appeal for readers? Are there provisions for customization or adjustments to the generated image before publication?']\n"
          ]
        }
      ]
    },
    {
      "cell_type": "code",
      "source": [
        "def generate_answers_llm(questions, parsed_data, llm_model):\n",
        "    \"\"\"\n",
        "    Uses an open-source LLM to generate creative questions (high temperature).\n",
        "    \"\"\"\n",
        "    answers = []\n",
        "\n",
        "    for question in questions:\n",
        "        prompt = f\"\"\"\n",
        "        You are an expert workflow analyst.\n",
        "        Context:\n",
        "        ID: {parsed_data.get(\"workflow_id\", \"\")}\n",
        "        Name: {parsed_data.get(\"workflow_name\", \"\")}\n",
        "        Meta: {parsed_data.get(\"meta\", {})}\n",
        "        Agents: {parsed_data.get(\"agents\", [])}\n",
        "        Dependencies: {parsed_data.get(\"dependencies\", {})}\n",
        "        Notes: {parsed_data.get(\"sticky_notes\", \"\")}\n",
        "\n",
        "\n",
        "        The question is: \"{question}\"\n",
        "\n",
        "        Provide a concise, factual, and well-structured answer.\n",
        "        \"\"\"\n",
        "\n",
        "        response = client.chat.completions.create(\n",
        "            model=llm_model,\n",
        "            messages=[\n",
        "                {\"role\": \"system\", \"content\": \"You are a helpful assistant.\"},\n",
        "                {\"role\": \"user\", \"content\": prompt}],\n",
        "            temperature = 0.25,\n",
        "            top_p = 0.95,\n",
        "            max_tokens = 2048)\n",
        "        answer = response.choices[0].message.content.strip()\n",
        "        answers.append(answer)\n",
        "\n",
        "    return answers"
      ],
      "metadata": {
        "id": "VCYxCKoQ5Ybt"
      },
      "execution_count": null,
      "outputs": []
    },
    {
      "cell_type": "code",
      "source": [
        "generate_answers_llm(questions, parse_workflow_data(data), 'gpt-3.5-turbo')"
      ],
      "metadata": {
        "colab": {
          "base_uri": "https://localhost:8080/"
        },
        "id": "3voQzo31-uh7",
        "outputId": "4f8526ce-1aff-40ba-baf4-e31cd6372f47"
      },
      "execution_count": null,
      "outputs": [
        {
          "output_type": "execute_result",
          "data": {
            "text/plain": [
              "[\"To ensure that the generated content is SEO-friendly and aligns with the input prompt provided in the Google Sheet, the workflow incorporates several key mechanisms:\\n\\n1. **Input Prompt Alignment**: The workflow starts by setting the prompt based on the input provided in the Google Sheet. This prompt guides the content generation process to ensure that the article addresses the specific topic or idea provided.\\n\\n2. **Content Generation with DeepSeek**: The content generation process utilizes DeepSeek R1 to create the article based on the input prompt. DeepSeek generates the content following specific instructions, such as introduction length, chapter structure, logical flow, and depth of information. This structured approach helps in creating SEO-friendly content that aligns with the input prompt.\\n\\n3. **Title Generation with DeepSeek**: A title for the article is generated using DeepSeek, ensuring that it is relevant to the content and contains keywords from the article itself. This helps in improving SEO by having a title that reflects the article's content accurately.\\n\\n4. **SEO Optimization**: While the workflow itself does not explicitly mention SEO optimization steps, the structured content generation process and alignment with the input prompt inherently contribute to SEO effectiveness. By following SEO best practices, such as using relevant keywords, providing valuable information, and maintaining a logical flow, the generated content is likely to be SEO-friendly.\\n\\n5. **Measurement of SEO Effectiveness**: The workflow does not include specific mechanisms to measure the content's SEO effectiveness. However, after publishing the content on WordPress, additional tools like Google Analytics, Search Console, or SEO plugins can be used to track the performance of the content in terms of SEO metrics such as organic traffic, keyword rankings, and user engagement. This post-publishing analysis can provide insights into the SEO effectiveness of the generated content.\\n\\nIn summary, the workflow ensures SEO-friendly content alignment by structuring the content generation process around the input prompt, utilizing DeepSeek for content and title generation, and following SEO best practices. While there are no built-in mechanisms for measuring SEO effectiveness within the workflow, post-publishing tools can be employed for this purpose.\",\n",
              " 'To maintain a coherent narrative flow and ensure engaging content in the generated articles produced by DeepSeek R1, the workflow incorporates the following measures:\\n\\n1. **Structured Instructions**: The workflow provides clear instructions to the AI model on how to structure the article. It specifies the length of the introduction and conclusion, the number of chapters, and guidelines on logical flow and coherence.\\n\\n2. **Logical Chapter Organization**: DeepSeek R1 is instructed to create 4-5 chapters that follow a logical flow and are related to each other. This ensures that the content is structured in a cohesive manner, leading to a more engaging reading experience.\\n\\n3. **Avoiding Repetition**: The system instructs DeepSeek R1 to avoid repeating the same concepts within the chapters. This helps in maintaining reader interest by introducing new information and perspectives throughout the article.\\n\\n4. **Linear Logic**: The workflow emphasizes that the text should flow with a linear logic, ensuring that each section of the article connects smoothly to the next. This approach helps in sustaining reader engagement by guiding them through a coherent storyline.\\n\\n5. **Depth of Information**: DeepSeek R1 is directed to delve deeper into the topic rather than providing superficial information. By offering in-depth insights and analysis, the content becomes more informative and captivating for the readers.\\n\\nOverall, by providing structured guidelines, logical organization, avoidance of repetition, maintaining linear logic, and focusing on depth of information, the system ensures that the generated articles are coherent, engaging, and capable of retaining reader interest throughout the reading experience.',\n",
              " 'To ensure quality and accuracy in the automated content generation and publishing process on WordPress without human intervention, the following safeguards and quality control measures are implemented:\\n\\n1. **Thorough Testing**: Regularly test the workflow to identify and address any potential errors or issues that may arise during the automation process.\\n\\n2. **Validation Steps**: Implement validation checks at critical points in the workflow to verify data accuracy and consistency before proceeding to the next step.\\n\\n3. **Error Handling**: Set up error handling mechanisms to capture and handle any unexpected errors or exceptions that may occur during the automation process.\\n\\n4. **Review Mechanisms**: Incorporate review mechanisms, such as automated content previews or comparisons with predefined benchmarks, to assess the generated content for relevance, coherence, and adherence to SEO best practices.\\n\\n5. **Content Moderation**: Utilize AI-powered content moderation tools to flag any potentially inappropriate or low-quality content before publishing it on WordPress.\\n\\n6. **Version Control**: Maintain version control of the generated content to track changes and facilitate rollback in case of inaccuracies or unintended modifications.\\n\\n7. **Human Oversight**: Although the process is automated, consider incorporating periodic human oversight to review the generated content and ensure it aligns with the intended messaging and brand voice.\\n\\nBy implementing these safeguards and quality control checks, the workflow can minimize the risk of errors or inaccuracies in the generated content and enhance the overall quality and reliability of the automated content generation and publishing process on WordPress.',\n",
              " \"To handle potential issues such as formatting discrepancies or content structure variations between the generated article from DeepSeek R1 and the final post created on WordPress, the workflow incorporates several steps to streamline the process and ensure consistency:\\n\\n1. **Content Generation and Title Creation**: \\n   - DeepSeek R1 generates the article content based on the provided prompt, following specific instructions for structure and formatting.\\n   - A title for the article is created using keywords from the content, ensuring relevance and SEO optimization.\\n\\n2. **Image Generation and Upload**:\\n   - An image is generated using OpenAI DALL-E based on the article's title and relevant keywords.\\n   - The image is uploaded to WordPress as a cover for the post.\\n\\n3. **WordPress Post Creation**:\\n   - The article content and title are used to create a draft post on WordPress.\\n   - The content is inserted into the post with appropriate formatting.\\n\\n4. **Consistency Check and Updates**:\\n   - The workflow updates a Google Sheet with details such as the post ID, date, and title to track the generated content.\\n   - If there are discrepancies or variations in formatting, the Google Sheet can be used to review and make necessary adjustments before publishing.\\n\\n5. **Automated Processes**:\\n   - The workflow is designed to be executed automatically on a schedule, ensuring a consistent and streamlined content creation process.\\n   - By automating the workflow, manual errors are minimized, and content consistency is maintained.\\n\\nOverall, the workflow integrates various tools and steps to address potential issues, maintain consistency, and streamline the process of generating and publishing content on WordPress.\",\n",
              " \"In the workflow for generating the cover image with OpenAI DALL-E 3, the following provisions address potential challenges and ensure visual appeal:\\n\\n1. **Image Quality**: The workflow specifies options for image quality, such as 'hd', which ensures that the generated image is of high quality.\\n\\n2. **Relevance to Article Content**: The prompt provided to OpenAI DALL-E includes keywords from the article content, ensuring that the generated image is contextually relevant to the article.\\n\\n3. **Visual Appeal**: By using the 'natural' style option, the workflow aims to enhance the visual appeal of the image, making it more engaging for readers.\\n\\n4. **Customization**: While the workflow does not explicitly mention customization options for the generated image, adjustments can potentially be made by modifying the prompt provided to OpenAI DALL-E or exploring different style and quality settings to tailor the image to specific preferences before publication.\\n\\nOverall, the workflow integrates features that prioritize image quality, relevance to content, and visual appeal, with potential flexibility for customization to meet specific requirements.\"]"
            ]
          },
          "metadata": {},
          "execution_count": 12
        }
      ]
    },
    {
      "cell_type": "markdown",
      "source": [
        "generate deterministic questions"
      ],
      "metadata": {
        "id": "9V6A_UJA1OBL"
      }
    },
    {
      "cell_type": "code",
      "source": [
        "def deterministic_questions(parsed_data):\n",
        "    \"\"\"\n",
        "    Generates a list of five default questions about the workflow.\n",
        "    \"\"\"\n",
        "    workflow_name = parsed_data.get(\"workflow_name\", \"\")\n",
        "    agents = parsed_data.get(\"agents\", [])\n",
        "    dependencies = parsed_data.get(\"dependencies\", {})\n",
        "    sticky_notes = parsed_data.get(\"sticky_notes\", \"\")\n",
        "\n",
        "    # extract basic naming\n",
        "    qa1 = {\n",
        "        \"question\": \"What is the exact name of the workflow as recorded in the parsed data?\",\n",
        "        \"answer\": workflow_name\n",
        "    }\n",
        "\n",
        "    # extract purpose\n",
        "    workflow_purpose = next((note for note in sticky_notes if \"## Target\" in note), \"No description found.\")\n",
        "    qa2 = {\n",
        "        \"question\": \"Based on the provided descriptions (sticky notes), what is the primary objective or intended function of this workflow?\",\n",
        "        \"answer\": workflow_purpose\n",
        "    }\n",
        "\n",
        "    # extract agent\n",
        "    agent_list = []\n",
        "    for agent in agents:\n",
        "      agent_name = agent.get('name', 'Unknown')\n",
        "      agent_type = agent.get('type', 'Unknown').split('.')[-1]\n",
        "      agent_list.append(f\"{agent_name} (type: {agent_type})\")\n",
        "    qa3 = {\n",
        "        \"question\": \"List all agents (nodes) present in the workflow along with their names and types.\",\n",
        "        \"answer\": agent_list if agent_list else \"No agents available.\"\n",
        "    }\n",
        "\n",
        "    # extract Dependencies (Agent Interactions)\n",
        "    dependency_list = []\n",
        "    for source, target in dependencies.items():\n",
        "      target_str = ', '.join(target)\n",
        "      format_string = f\"{source} → {target_str}\"\n",
        "      dependency_list.append(format_string)\n",
        "    dependency_list = \"\\n\".join(dependency_list)\n",
        "\n",
        "    qa4 = {\n",
        "        \"question\": \"Describe the dependencies between the agents, specifying which agents trigger or depend on others.\",\n",
        "        \"answer\": dependency_list if dependency_list else \"No dependencies found.\"\n",
        "    }\n",
        "\n",
        "    #  extract Additional Context from Sticky Notes for crediential / API requirements\n",
        "    additional_context = \"\\n\".join([note for note in sticky_notes if \"credential\" in note.lower() or \"API\" in note])\n",
        "    qa5 = {\n",
        "        \"question\": \"Summarize any additional contextual information from sticky notes that explain the workflow's purpose, best practices, or specific considerations.\",\n",
        "        \"answer\": additional_context if additional_context else \"No additional context provided.\"\n",
        "    }\n",
        "\n",
        "\n",
        "    return [qa1, qa2, qa3, qa4, qa5]\n",
        "\n"
      ],
      "metadata": {
        "id": "epZpLvuP1lvw"
      },
      "execution_count": null,
      "outputs": []
    },
    {
      "cell_type": "code",
      "source": [
        "deterministic_questions(parse_workflow_data(data))"
      ],
      "metadata": {
        "colab": {
          "base_uri": "https://localhost:8080/"
        },
        "id": "rXzJG4pm5OPc",
        "outputId": "8474c37f-f25a-42b5-a449-aa4a6a5002b7"
      },
      "execution_count": null,
      "outputs": [
        {
          "output_type": "execute_result",
          "data": {
            "text/plain": [
              "[{'question': 'What is the exact name of the workflow as recorded in the parsed data?',\n",
              "  'answer': 'Automate Content Generator for WordPress with DeepSeek R1'},\n",
              " {'question': 'Based on the provided descriptions (sticky notes), what is the primary objective or intended function of this workflow?',\n",
              "  'answer': '## Target\\nThis workflow is designed to automatically generate seo-friendly content for wordpress through DeepSeek R1 by giving input ideas on how to structure the article. A cover image is also generated and uploaded with OpenAI DALL-E 3. This flow is designed to be executed automatically (ad \"On a schedule\" node) and thus have a complete editorial plan.\\n\\nThis process is useful for blog managers who want to automate content creation and publishing.\\n\\n## Preliminary step\\nCreate a google sheet with the following columns:\\n- Date\\n- Prompt\\n- Title\\n- Post ID\\n\\nFill in only the \"Prompt\" column with basic ideas that DeepSeek will work on to generate the content.'},\n",
              " {'question': 'List all agents (nodes) present in the workflow along with their names and types.',\n",
              "  'answer': ['When clicking ‘Test workflow’ (type: manualTrigger)',\n",
              "   'Get Ideas (type: googleSheets)',\n",
              "   'Set your prompt (type: set)',\n",
              "   'Create post on Wordpress (type: wordpress)',\n",
              "   'Upload image (type: httpRequest)',\n",
              "   'Set Image (type: httpRequest)',\n",
              "   'Update Sheet (type: googleSheets)',\n",
              "   'Generate article with DeepSeek (type: openAi)',\n",
              "   'Generate title with DeepSeek (type: openAi)',\n",
              "   'Generate Image with DALL-E (type: openAi)']},\n",
              " {'question': 'Describe the dependencies between the agents, specifying which agents trigger or depend on others.',\n",
              "  'answer': 'Get Ideas → Set your prompt\\nSet Image → Update Sheet\\nUpload image → Set Image\\nSet your prompt → Generate article with DeepSeek\\nCreate post on Wordpress → Generate Image with DALL-E\\nGenerate Image with DALL-E → Upload image\\nGenerate title with DeepSeek → Create post on Wordpress\\nGenerate article with DeepSeek → Generate title with DeepSeek\\nWhen clicking ‘Test workflow’ → Get Ideas'},\n",
              " {'question': \"Summarize any additional contextual information from sticky notes that explain the workflow's purpose, best practices, or specific considerations.\",\n",
              "  'answer': 'Add your DeepSeek API credential. If you want you can change the model with \"deepseek-chat\"\\nAdd your WordPress API credential\\n\\nAdd your OpenAI API credential\\n\\nUpload the image on your WordPress via APIs\\n'}]"
            ]
          },
          "metadata": {},
          "execution_count": 82
        }
      ]
    },
    {
      "cell_type": "markdown",
      "source": [
        "format QA pairs"
      ],
      "metadata": {
        "id": "EUXzEWkrnupz"
      }
    },
    {
      "cell_type": "code",
      "source": [
        "def build_qa_pairs(json_filepath, llm_model):\n",
        "  workflow_data = read_json_file(json_filepath)\n",
        "  parsed_data = parse_workflow_data(workflow_data)\n",
        "\n",
        "  # generate deterministic QA pairs\n",
        "  deterministic_qas = deterministic_questions(parsed_data)\n",
        "\n",
        "  # generate generative questions using LLM\n",
        "  questions = generate_questions_llm(parsed_data, llm_model)\n",
        "  answers = generate_answers_llm(questions, parsed_data, llm_model)\n",
        "\n",
        "  generative_qas = []\n",
        "  for q, a in zip(questions, answers):\n",
        "    generative_qas.append({\"question\": q, \"answer\": a})\n",
        "\n",
        "  qa_pairs = deterministic_qas + generative_qas\n",
        "\n",
        "\n",
        "  return qa_pairs"
      ],
      "metadata": {
        "id": "BZUs4ytJnzCk"
      },
      "execution_count": null,
      "outputs": []
    },
    {
      "cell_type": "code",
      "source": [
        "qa_data = build_qa_pairs('content-generation-sample.json', 'gpt-3.5-turbo')"
      ],
      "metadata": {
        "id": "XM5I2cFIAGcP"
      },
      "execution_count": null,
      "outputs": []
    },
    {
      "cell_type": "code",
      "source": [
        "print(qa_data)"
      ],
      "metadata": {
        "colab": {
          "base_uri": "https://localhost:8080/"
        },
        "id": "gn9ZNiOEERN5",
        "outputId": "f68d21d8-823a-439c-fa3d-98a9bc1f6e0f"
      },
      "execution_count": null,
      "outputs": [
        {
          "output_type": "stream",
          "name": "stdout",
          "text": [
            "[{'question': 'What is the exact name of the workflow as recorded in the parsed data?', 'answer': 'Automate Content Generator for WordPress with DeepSeek R1'}, {'question': 'Based on the provided descriptions (sticky notes), what is the primary objective or intended function of this workflow?', 'answer': '## Target\\nThis workflow is designed to automatically generate seo-friendly content for wordpress through DeepSeek R1 by giving input ideas on how to structure the article. A cover image is also generated and uploaded with OpenAI DALL-E 3. This flow is designed to be executed automatically (ad \"On a schedule\" node) and thus have a complete editorial plan.\\n\\nThis process is useful for blog managers who want to automate content creation and publishing.\\n\\n## Preliminary step\\nCreate a google sheet with the following columns:\\n- Date\\n- Prompt\\n- Title\\n- Post ID\\n\\nFill in only the \"Prompt\" column with basic ideas that DeepSeek will work on to generate the content.'}, {'question': 'List all agents (nodes) present in the workflow along with their names and types.', 'answer': ['When clicking ‘Test workflow’ (type: manualTrigger)', 'Get Ideas (type: googleSheets)', 'Set your prompt (type: set)', 'Create post on Wordpress (type: wordpress)', 'Upload image (type: httpRequest)', 'Set Image (type: httpRequest)', 'Update Sheet (type: googleSheets)', 'Generate article with DeepSeek (type: openAi)', 'Generate title with DeepSeek (type: openAi)', 'Generate Image with DALL-E (type: openAi)']}, {'question': 'Describe the dependencies between the agents, specifying which agents trigger or depend on others.', 'answer': 'Get Ideas → Set your prompt\\nSet Image → Update Sheet\\nUpload image → Set Image\\nSet your prompt → Generate article with DeepSeek\\nCreate post on Wordpress → Generate Image with DALL-E\\nGenerate Image with DALL-E → Upload image\\nGenerate title with DeepSeek → Create post on Wordpress\\nGenerate article with DeepSeek → Generate title with DeepSeek\\nWhen clicking ‘Test workflow’ → Get Ideas'}, {'question': \"Summarize any additional contextual information from sticky notes that explain the workflow's purpose, best practices, or specific considerations.\", 'answer': 'Add your DeepSeek API credential. If you want you can change the model with \"deepseek-chat\"\\nAdd your WordPress API credential\\n\\nAdd your OpenAI API credential\\n\\nUpload the image on your WordPress via APIs\\n'}, {'question': '1. **Workflow Integration**: How does the automation flow seamlessly integrate various tools and services like Google Sheets, DeepSeek R1, WordPress, and OpenAI to create a comprehensive content generation process?', 'answer': 'The automation flow seamlessly integrates various tools and services to create a comprehensive content generation process:\\n\\n1. **Google Sheets**: \\n   - Initial ideas are stored in a Google Sheet with columns for Date, Prompt, Title, and Post ID.\\n   - The \"Get Ideas\" node fetches these prompts for content generation.\\n\\n2. **DeepSeek R1**:\\n   - The \"Set your prompt\" node sets the prompt for DeepSeek to generate content based on the fetched ideas.\\n   - The \"Generate article with DeepSeek\" node generates the article content based on the prompt.\\n   - The \"Generate title with DeepSeek\" node creates a title for the article using SEO keywords.\\n\\n3. **WordPress**:\\n   - The \"Create post on WordPress\" node uses the generated content and title to create a draft post.\\n   - The \"Upload image\" node uploads a cover image for the post to WordPress.\\n   - The \"Set Image\" node associates the uploaded image with the newly created article.\\n\\n4. **OpenAI**:\\n   - The \"Generate Image with DALL-E\" node generates a realistic cover image for the blog post using AI.\\n\\nThis seamless integration automates the content creation and publishing process, enabling blog managers to efficiently generate SEO-friendly content with relevant images.'}, {'question': '2. **Content Quality Assurance**: What measures are in place within the workflow to ensure that the generated content is of high quality, SEO-friendly, and aligns with the intended tone and style for the WordPress platform?', 'answer': \"To ensure high-quality, SEO-friendly content aligned with the intended tone and style for WordPress, the workflow incorporates several measures:\\n\\n1. **Input Ideas Validation**: The initial step involves inputting ideas into a Google Sheet, ensuring that only rows without generated content are selected. This helps in focusing on fresh content ideas.\\n\\n2. **DeepSeek AI Content Generation**: The content generation process utilizes DeepSeek R1, an AI tool specifically designed for SEO-friendly content creation. This tool follows specific instructions for structuring the article, ensuring logical flow and depth in the content.\\n\\n3. **Title Generation**: The workflow includes generating article titles based on the content, incorporating relevant keywords and maintaining a concise format within 60 characters. This helps in creating engaging and SEO-optimized titles.\\n\\n4. **Image Creation and Upload**: The workflow generates a cover image using OpenAI DALL-E, aligning with the article's theme. The image is then uploaded to WordPress, enhancing visual appeal and engagement.\\n\\n5. **Content Publishing on WordPress**: The final step involves creating a draft post on WordPress with the generated content and associated image. This ensures seamless integration of the content into the platform, maintaining consistency in style and tone.\\n\\nOverall, the workflow combines AI-driven content creation, keyword optimization, visual enhancement, and platform-specific formatting to deliver high-quality, SEO-friendly content that aligns with the intended tone and style for WordPress.\"}, {'question': '3. **Data Synchronization**: How does the workflow handle data synchronization between different stages such as updating the Google Sheet with the generated content details and linking the created post with the associated cover image in WordPress?', 'answer': 'The workflow handles data synchronization between different stages as follows:\\n\\n1. **Updating Google Sheet with Content Details**:\\n   - The workflow uses the \"Update Sheet\" node from Google Sheets to update the specified columns with relevant data such as the date, title, and post ID.\\n   - The data is fetched from various stages of the workflow, including generating the article content and creating the post on WordPress.\\n   - This ensures that the Google Sheet is always up-to-date with the latest information related to the content generation process.\\n\\n2. **Linking Created Post with Cover Image in WordPress**:\\n   - After generating the article content and creating the post on WordPress, the workflow proceeds to generate a cover image using OpenAI DALL-E.\\n   - The cover image is uploaded to WordPress using the \"Upload image\" node, which sends the image data to the specified endpoint.\\n   - Subsequently, the \"Set Image\" node is used to associate the uploaded image with the newly created article post by updating the featured_media parameter in WordPress.\\n   - This linking ensures that the created post has a visually appealing cover image associated with it, enhancing the overall presentation and user engagement on the website.\\n\\nOverall, the workflow seamlessly synchronizes data between the Google Sheet for content details and WordPress for post creation and image linking, ensuring a cohesive and automated content generation and publishing process.'}, {'question': '4. **Credential Management**: Considering the use of multiple APIs and credentials from different services, how is the secure management of these credentials maintained throughout the workflow execution to prevent unauthorized access or data breaches?', 'answer': 'To maintain secure credential management throughout the workflow execution and prevent unauthorized access or data breaches, the following best practices should be implemented:\\n\\n1. **Use Credential Management Nodes**: Utilize credential management nodes provided by the workflow automation tool to securely store and manage API keys, access tokens, and other sensitive information. These nodes encrypt credentials and ensure they are securely stored.\\n\\n2. **Restrict Access**: Limit access to credentials by assigning appropriate permissions and roles to team members. Only authorized personnel should have access to sensitive credentials.\\n\\n3. **Rotate Credentials**: Regularly rotate API keys and access tokens to reduce the risk of unauthorized access. This practice ensures that compromised credentials become obsolete quickly.\\n\\n4. **Monitor and Audit**: Implement monitoring and auditing mechanisms to track credential usage and detect any unusual activities. Regularly review access logs to identify and address any unauthorized access attempts.\\n\\n5. **Secure Communication**: Ensure that all communication between nodes and external services is encrypted using secure protocols such as HTTPS. This prevents eavesdropping and data interception during data transmission.\\n\\n6. **Secure Storage**: Store credentials in secure locations, such as encrypted databases or secure vaults, to prevent unauthorized access. Avoid hardcoding credentials directly into the workflow configurations.\\n\\nBy following these practices, you can maintain a high level of security in credential management throughout the workflow execution, reducing the risk of unauthorized access and data breaches.'}, {'question': '5. **Scalability and Maintenance**: In what ways is the workflow designed to scale as the content generation needs grow, and what maintenance procedures are in place to ensure the continued efficiency and effectiveness of the automated process over time?', 'answer': \"The workflow is designed for scalability and maintenance in the following ways:\\n\\n1. **Scalability**:\\n   - **Automated Content Generation**: The workflow automates the content generation process, allowing for efficient scaling as content needs grow. This automation reduces the manual effort required to create and publish content.\\n   - **Modular Structure**: The workflow is modular, with clear dependencies between nodes. This modular design enables easy scalability by adding or modifying nodes as needed without disrupting the entire workflow.\\n   - **Scheduled Execution**: The workflow can be scheduled to run at specific intervals, ensuring a continuous flow of content generation without manual intervention. This scheduling capability supports scalability by handling increased content demands over time.\\n\\n2. **Maintenance Procedures**:\\n   - **Regular Monitoring**: Regular monitoring of the workflow's performance ensures that it continues to function effectively. Monitoring can identify any issues or bottlenecks that may arise and allow for timely intervention.\\n   - **Credential Management**: Proper management of API credentials for Google Sheets, DeepSeek, WordPress, and OpenAI is essential for maintaining the workflow's functionality. Regularly updating and securing these credentials helps prevent disruptions in the automated process.\\n   - **Documentation**: Detailed documentation of the workflow, including dependencies, node configurations, and notes, aids in troubleshooting and maintaining the workflow over time. Clear documentation facilitates easy understanding and modification of the workflow as needed.\\n   - **Testing and Validation**: Periodic testing and validation of the workflow ensure that it continues to generate content accurately and efficiently. Testing helps identify any potential issues or changes required for optimal performance.\\n\\nBy incorporating these scalability features and maintenance procedures, the workflow is designed to adapt to growing content generation needs while ensuring long-term efficiency and effectiveness.\"}]\n"
          ]
        }
      ]
    },
    {
      "cell_type": "code",
      "source": [
        "print(len(qa_data))"
      ],
      "metadata": {
        "colab": {
          "base_uri": "https://localhost:8080/"
        },
        "id": "Lbs10UiLD6Lo",
        "outputId": "70cfbbfe-40ba-435e-fda8-b00a3bc7f665"
      },
      "execution_count": null,
      "outputs": [
        {
          "output_type": "stream",
          "name": "stdout",
          "text": [
            "10\n"
          ]
        }
      ]
    }
  ]
}